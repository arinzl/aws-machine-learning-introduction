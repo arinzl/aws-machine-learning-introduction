{
 "cells": [
  {
   "cell_type": "markdown",
   "id": "fcfce1be",
   "metadata": {},
   "source": [
    "# Machine Learning Introduction - devbuildit.com"
   ]
  },
  {
   "cell_type": "markdown",
   "id": "fc1ba9cd",
   "metadata": {},
   "source": [
    "## Update notebook dependancies "
   ]
  },
  {
   "cell_type": "code",
   "execution_count": null,
   "id": "90bab4f7",
   "metadata": {
    "scrolled": true
   },
   "outputs": [],
   "source": [
    "!pip install --upgrade numexpr\n",
    "!pip install --upgrade pandas"
   ]
  },
  {
   "cell_type": "markdown",
   "id": "109b5211",
   "metadata": {},
   "source": [
    "Restart kernel!!!!"
   ]
  },
  {
   "cell_type": "markdown",
   "id": "1e314720",
   "metadata": {},
   "source": [
    "## Imports"
   ]
  },
  {
   "cell_type": "code",
   "execution_count": null,
   "id": "8dbf5420",
   "metadata": {},
   "outputs": [],
   "source": [
    "import boto3\n",
    "import sagemaker\n",
    "import os\n",
    "from sagemaker import image_uris\n",
    "from sagemaker.xgboost.estimator import XGBoost\n",
    "from sagemaker.session import Session\n",
    "from sagemaker.inputs import TrainingInput"
   ]
  },
  {
   "cell_type": "markdown",
   "id": "cf509571",
   "metadata": {},
   "source": [
    "## Set S3 bucket location"
   ]
  },
  {
   "cell_type": "code",
   "execution_count": null,
   "id": "7e091727",
   "metadata": {},
   "outputs": [],
   "source": [
    "bucket_name = 'ml-intro-sagemaker-<AWD AccountID>' # <--- CHANGE THIS VARIABLE TO A UNIQUE NAME FOR YOUR BUCKET\n",
    "my_region = boto3.session.Session().region_name # set the region of the instance\n",
    "print(my_region)"
   ]
  },
  {
   "cell_type": "code",
   "execution_count": null,
   "id": "c9400a8d",
   "metadata": {
    "scrolled": true
   },
   "outputs": [],
   "source": [
    "s3 = boto3.resource('s3')\n",
    "prefix = 'xgboost-algo'\n",
    "output_path ='s3://{}/{}/output'.format(bucket_name, prefix)\n",
    "print(output_path)"
   ]
  },
  {
   "cell_type": "code",
   "execution_count": null,
   "id": "f17a942c",
   "metadata": {},
   "outputs": [],
   "source": [
    "import pandas as pd\n",
    "import numpy as np\n",
    "from matplotlib import pyplot as plt"
   ]
  },
  {
   "cell_type": "markdown",
   "id": "8af92d09",
   "metadata": {},
   "source": [
    "## Import data &  visualise data"
   ]
  },
  {
   "cell_type": "code",
   "execution_count": null,
   "id": "91f41f00",
   "metadata": {},
   "outputs": [],
   "source": [
    "model_data = pd.read_csv('s3://ml-intro-sagemaker-<AWD AccountID>/ml_data.csv', sep=',')"
   ]
  },
  {
   "cell_type": "code",
   "execution_count": null,
   "id": "ad989404",
   "metadata": {},
   "outputs": [],
   "source": [
    "model_data"
   ]
  },
  {
   "cell_type": "code",
   "execution_count": null,
   "id": "e39f449f",
   "metadata": {
    "scrolled": true
   },
   "outputs": [],
   "source": [
    "plt.plot(model_data['x'], model_data['y'])"
   ]
  },
  {
   "cell_type": "code",
   "execution_count": null,
   "id": "1cd5c305",
   "metadata": {},
   "outputs": [],
   "source": [
    "model_data=model_data[['y','x']]"
   ]
  },
  {
   "cell_type": "code",
   "execution_count": null,
   "id": "fcbe08a7",
   "metadata": {},
   "outputs": [],
   "source": [
    "model_data"
   ]
  },
  {
   "cell_type": "markdown",
   "id": "0ac14b1f",
   "metadata": {},
   "source": [
    "## Split into training and testing data"
   ]
  },
  {
   "cell_type": "code",
   "execution_count": null,
   "id": "509c8986",
   "metadata": {},
   "outputs": [],
   "source": [
    "\n",
    "print(model_data.shape)\n",
    "\n",
    "import numpy as np\n",
    "train_data, test_data = np.split(model_data.sample(frac=1, random_state=1729), [int(0.7 * len(model_data))])\n",
    "print(train_data.shape, test_data.shape)"
   ]
  },
  {
   "cell_type": "code",
   "execution_count": null,
   "id": "6aa49c72",
   "metadata": {},
   "outputs": [],
   "source": [
    "test_data"
   ]
  },
  {
   "cell_type": "markdown",
   "id": "ac1f9404",
   "metadata": {},
   "source": [
    "## Create CSV for training and testing"
   ]
  },
  {
   "cell_type": "code",
   "execution_count": null,
   "id": "254c83c0",
   "metadata": {},
   "outputs": [],
   "source": [
    "train_data.to_csv('train.csv', index=False, header=False)\n",
    "boto3.Session().resource('s3').Bucket(bucket_name).Object(os.path.join(prefix, 'train/train.csv')).upload_file('train.csv')\n",
    "s3_input_train = sagemaker.TrainingInput(s3_data='s3://{}/{}/train'.format(bucket_name, prefix), content_type='csv')"
   ]
  },
  {
   "cell_type": "code",
   "execution_count": null,
   "id": "4aa7ec42",
   "metadata": {},
   "outputs": [],
   "source": [
    "test_data.to_csv('test.csv', index=False, header=False)\n",
    "boto3.Session().resource('s3').Bucket(bucket_name).Object(os.path.join(prefix, 'test/test.csv')).upload_file('test.csv')\n",
    "s3_input_test = sagemaker.TrainingInput(s3_data='s3://{}/{}/train'.format(bucket_name, prefix), content_type='csv')"
   ]
  },
  {
   "cell_type": "markdown",
   "id": "0d630190",
   "metadata": {},
   "source": [
    "## Container with Algorythym"
   ]
  },
  {
   "cell_type": "code",
   "execution_count": null,
   "id": "235363f5",
   "metadata": {},
   "outputs": [],
   "source": [
    "container = image_uris.retrieve(\"xgboost\", my_region, \"1.7-1\")\n",
    "container"
   ]
  },
  {
   "cell_type": "markdown",
   "id": "176109ff",
   "metadata": {},
   "source": [
    "## Set Hyper parameters"
   ]
  },
  {
   "cell_type": "code",
   "execution_count": null,
   "id": "daaeb82a",
   "metadata": {},
   "outputs": [],
   "source": [
    "hyperparameters = {\n",
    "        \"max_depth\":\"5\",\n",
    "        \"eta\":\"0.2\",\n",
    "        \"gamma\":\"4\",\n",
    "        \"min_child_weight\":\"6\",\n",
    "        \"subsample\":\"0.7\",\n",
    "        \"objective\":\"reg:squarederror\",\n",
    "        \"num_round\":50\n",
    "        }"
   ]
  },
  {
   "cell_type": "markdown",
   "id": "abdf9fe8",
   "metadata": {},
   "source": [
    "## Setup training job and train."
   ]
  },
  {
   "cell_type": "code",
   "execution_count": null,
   "id": "25eb2243",
   "metadata": {},
   "outputs": [],
   "source": [
    "estimator = sagemaker.estimator.Estimator(image_uri=container, \n",
    "                                          hyperparameters=hyperparameters,\n",
    "                                          role=sagemaker.get_execution_role(),\n",
    "                                          instance_count=1, \n",
    "                                          instance_type='ml.m5.2xlarge', \n",
    "                                          volume_size=5, # 5 GB,\n",
    "                                          output_path=output_path,\n",
    "                                          use_spot_instances=True,\n",
    "                                          max_run=300,\n",
    "                                          max_wait=600)"
   ]
  },
  {
   "cell_type": "code",
   "execution_count": null,
   "id": "4e7f9227",
   "metadata": {},
   "outputs": [],
   "source": [
    "estimator.fit({'train': s3_input_train,'validation': s3_input_test})"
   ]
  },
  {
   "cell_type": "markdown",
   "id": "25a09297",
   "metadata": {},
   "source": [
    "## Deploy model (deploy)"
   ]
  },
  {
   "cell_type": "code",
   "execution_count": null,
   "id": "5662b7f7",
   "metadata": {},
   "outputs": [],
   "source": [
    "xgb_predictictor = estimator.deploy(initial_instance_count=1, instance_type='ml.m5.large')"
   ]
  },
  {
   "cell_type": "code",
   "execution_count": null,
   "id": "3cd94919",
   "metadata": {},
   "outputs": [],
   "source": [
    "# Get Sagemaker endpoint name & update lambda function environment variable\n",
    "xgb_predictictor.endpoint_name"
   ]
  },
  {
   "cell_type": "markdown",
   "id": "2eb7939a",
   "metadata": {},
   "source": [
    "## Tidy up"
   ]
  },
  {
   "cell_type": "markdown",
   "id": "e373f1da",
   "metadata": {},
   "source": [
    "### destroy endpoint\n",
    "### delete training job record\n",
    "### empty buckets\n",
    "### delete Cloud formation stack\n",
    "### run terraform destory"
   ]
  }
 ],
 "metadata": {
  "kernelspec": {
   "display_name": "conda_python3",
   "language": "python",
   "name": "conda_python3"
  },
  "language_info": {
   "codemirror_mode": {
    "name": "ipython",
    "version": 3
   },
   "file_extension": ".py",
   "mimetype": "text/x-python",
   "name": "python",
   "nbconvert_exporter": "python",
   "pygments_lexer": "ipython3",
   "version": "3.10.13"
  }
 },
 "nbformat": 4,
 "nbformat_minor": 5
}
